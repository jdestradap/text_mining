{
 "cells": [
  {
   "cell_type": "code",
   "execution_count": 3,
   "metadata": {},
   "outputs": [
    {
     "name": "stdout",
     "output_type": "stream",
     "text": [
      "Requirement already satisfied: metapy in /home/hadoop/env/lib64/python3.6/site-packages (0.2.13)\r\n"
     ]
    }
   ],
   "source": [
    "!pip install metapy"
   ]
  },
  {
   "cell_type": "code",
   "execution_count": 4,
   "metadata": {},
   "outputs": [],
   "source": [
    "import metapy\n",
    "import boto3"
   ]
  },
  {
   "cell_type": "code",
   "execution_count": 5,
   "metadata": {},
   "outputs": [],
   "source": [
    "s3 =  boto3.client('s3', region_name='us-east-1')\n",
    "with open('../data/news/news.dat', 'wb') as f:\n",
    "    s3.download_fileobj('finaltext','news.csv', f)"
   ]
  },
  {
   "cell_type": "code",
   "execution_count": 6,
   "metadata": {},
   "outputs": [],
   "source": [
    "inv_idx = metapy.index.make_inverted_index(\"config.toml\")"
   ]
  },
  {
   "cell_type": "code",
   "execution_count": 7,
   "metadata": {},
   "outputs": [],
   "source": [
    "ranker = metapy.index.OkapiBM25()"
   ]
  },
  {
   "cell_type": "code",
   "execution_count": 8,
   "metadata": {},
   "outputs": [],
   "source": [
    "query = metapy.index.Document()\n",
    "query.content(\"trump hilary\")"
   ]
  },
  {
   "cell_type": "code",
   "execution_count": 9,
   "metadata": {},
   "outputs": [
    {
     "data": {
      "text/plain": [
       "[(12945, 11.590017318725586),\n",
       " (180302, 11.423179626464844),\n",
       " (117971, 11.160812377929688),\n",
       " (23362, 10.810493469238281),\n",
       " (20581, 10.354347229003906),\n",
       " (104190, 10.226216316223145),\n",
       " (76919, 10.046344757080078),\n",
       " (79251, 9.957535743713379),\n",
       " (78290, 9.932018280029297),\n",
       " (20238, 9.811086654663086)]"
      ]
     },
     "execution_count": 9,
     "metadata": {},
     "output_type": "execute_result"
    }
   ],
   "source": [
    "top_docs = ranker.score(inv_idx, query, num_results=10)\n",
    "top_docs"
   ]
  },
  {
   "cell_type": "markdown",
   "metadata": {},
   "source": [
    "### Inspeccionar inv_idx"
   ]
  },
  {
   "cell_type": "code",
   "execution_count": 40,
   "metadata": {},
   "outputs": [],
   "source": [
    "import inspect\n",
    "#inspect.getmembers(inv_idx)"
   ]
  },
  {
   "cell_type": "markdown",
   "metadata": {},
   "source": [
    "### Total de terminos en el corpus"
   ]
  },
  {
   "cell_type": "code",
   "execution_count": 26,
   "metadata": {},
   "outputs": [
    {
     "data": {
      "text/plain": [
       "54480268"
      ]
     },
     "execution_count": 26,
     "metadata": {},
     "output_type": "execute_result"
    }
   ],
   "source": [
    "inv_idx.total_corpus_terms()"
   ]
  },
  {
   "cell_type": "markdown",
   "metadata": {},
   "source": [
    "### Longitud promedio de los documentos"
   ]
  },
  {
   "cell_type": "code",
   "execution_count": 25,
   "metadata": {},
   "outputs": [
    {
     "data": {
      "text/plain": [
       "297.3456726074219"
      ]
     },
     "execution_count": 25,
     "metadata": {},
     "output_type": "execute_result"
    }
   ],
   "source": [
    "inv_idx.avg_doc_length()"
   ]
  },
  {
   "cell_type": "markdown",
   "metadata": {},
   "source": [
    "### Cantidad de terminos únicos"
   ]
  },
  {
   "cell_type": "code",
   "execution_count": 24,
   "metadata": {},
   "outputs": [
    {
     "data": {
      "text/plain": [
       "255530"
      ]
     },
     "execution_count": 24,
     "metadata": {},
     "output_type": "execute_result"
    }
   ],
   "source": [
    "inv_idx.unique_terms()"
   ]
  },
  {
   "cell_type": "markdown",
   "metadata": {},
   "source": [
    "### Número de documentos"
   ]
  },
  {
   "cell_type": "code",
   "execution_count": 23,
   "metadata": {},
   "outputs": [
    {
     "data": {
      "text/plain": [
       "183222"
      ]
     },
     "execution_count": 23,
     "metadata": {},
     "output_type": "execute_result"
    }
   ],
   "source": [
    "\n",
    "inv_idx.num_docs()"
   ]
  },
  {
   "cell_type": "code",
   "execution_count": 45,
   "metadata": {},
   "outputs": [],
   "source": [
    "def show_me_the_money(id_line):\n",
    "    fp = open(\"../data/news/news.dat\")\n",
    "    for i, line in enumerate(fp):\n",
    "        if i == id_line:\n",
    "            print(line)\n",
    "            break\n",
    "    fp.close()"
   ]
  },
  {
   "cell_type": "code",
   "execution_count": 46,
   "metadata": {},
   "outputs": [
    {
     "name": "stdout",
     "output_type": "stream",
     "text": [
      "12945,31681,Sen. Chuck Schumer Goes Off on Trump Supporter at Fancy NYC Restaurant,Breitbart,Katherine Rodriguez,2017-03-28,2017.0,3.0,,\"Senate Minority Leader Chuck Schumer ( ) reportedly went on a tirade at a “swanky” Manhattan restaurant Sunday night, screaming at a wealthy patron over her support for President Trump. [Schumer lost his temper when dining at Upper East Side restaurant Sette Mezzo, the New York Post’s Page Six reported.  The top Senate Democrat was dining with friends when he ran into former U. S. Secretary of Health, Education, and Welfare Joseph A. Califano Jr. and his wife, Hilary, at the restaurant. Witnesses say that Schumer became incensed that Hilary, daughter of CBS founder and chairman William S. Paley, voted for Trump, though her husband is a prominent Democrat. “They are a highly respected couple, and Schumer made a scene, yelling, ‘She voted for Trump!’ The Califanos left the restaurant, but Schumer followed them outside,” one witness said of the encounter. “How could you vote for Trump? He’s a liar! He’s a liar!” Schumer reportedly yelled. Hilary confirmed the encounter with Schumer and called the senator’s actions “really rude. ” “Sen. Schumer was really rude   …     He’s our senator, and I don’t really like him. Yes, I voted for Trump. Schumer joined us outside and he told me Trump was a liar. I should have told him that Hillary Clinton was a liar, but I was so surprised I didn’t say anything,” Hilary said. Another witness told a different story about Schumer’s encounter with the couple, saying the senator approached the couple’s table first. “It was a pleasant conversation. Joe said the senator was doing a good job on health care. Joe joked that Hilary voted for Trump. The conversation continued outside because everyone left at the same time,” the witness said. In a statement, Schumer’s spokesperson denied that there was a heated encounter at the restaurant. “[He] and his wife ate at the café on Sunday, engaging in unremarkable conversation with patrons who approached their table. There were no heated exchanges with ‎anyone,” the spokesperson said. Schumer has railed against the Trump administration, saying Sunday that President Trump’s proposal for a border wall will not get votes from Republicans or Democrats. He also called on Speaker of the House Paul Ryan ( ) to replace House Intelligence Committee chair Rep. Devin Nunes ( ) and announced that Senate Democrats will filibuster Judge Neil Gorsuch’s nomination to the Supreme Court.\"\n",
      "\n"
     ]
    }
   ],
   "source": [
    "show_me_the_money(12945)"
   ]
  },
  {
   "cell_type": "code",
   "execution_count": null,
   "metadata": {},
   "outputs": [],
   "source": [
    "type(top_docs)"
   ]
  }
 ],
 "metadata": {
  "kernelspec": {
   "display_name": "Python 3",
   "language": "python",
   "name": "python3"
  },
  "language_info": {
   "codemirror_mode": {
    "name": "ipython",
    "version": 3
   },
   "file_extension": ".py",
   "mimetype": "text/x-python",
   "name": "python",
   "nbconvert_exporter": "python",
   "pygments_lexer": "ipython3",
   "version": "3.6.8"
  }
 },
 "nbformat": 4,
 "nbformat_minor": 2
}
